{
  "cells": [
    {
      "cell_type": "markdown",
      "metadata": {
        "id": "view-in-github",
        "colab_type": "text"
      },
      "source": [
        "<a href=\"https://colab.research.google.com/github/fereshtehdehkhoda/Example-20-Health_insurance-and-male-and-married/blob/main/Health_insurance_and_male_and_married.ipynb\" target=\"_parent\"><img src=\"https://colab.research.google.com/assets/colab-badge.svg\" alt=\"Open In Colab\"/></a>"
      ]
    },
    {
      "cell_type": "markdown",
      "id": "d23186ca-184c-4356-bfdb-de6aa666132a",
      "metadata": {
        "id": "d23186ca-184c-4356-bfdb-de6aa666132a"
      },
      "source": [
        "# Health_insurance and male and married"
      ]
    },
    {
      "cell_type": "code",
      "execution_count": null,
      "id": "043b69f0-9447-4ea8-a11b-365193f13eff",
      "metadata": {
        "id": "043b69f0-9447-4ea8-a11b-365193f13eff"
      },
      "outputs": [],
      "source": [
        "#چند درصد مشتریانی که دارای بیمه سلامت هستند، مردان متاهل هستند؟"
      ]
    },
    {
      "cell_type": "code",
      "execution_count": null,
      "id": "fb86b79f-3703-4ef0-9824-d9f4807fbea2",
      "metadata": {
        "id": "fb86b79f-3703-4ef0-9824-d9f4807fbea2"
      },
      "outputs": [],
      "source": [
        "import pandas as pd\n",
        "import numpy as np"
      ]
    },
    {
      "cell_type": "code",
      "execution_count": null,
      "id": "87e9833b-9776-49b5-b255-08fae12f2db6",
      "metadata": {
        "id": "87e9833b-9776-49b5-b255-08fae12f2db6"
      },
      "outputs": [],
      "source": [
        "data=pd.read_csv('sample_data.csv')"
      ]
    },
    {
      "cell_type": "code",
      "execution_count": null,
      "id": "b3f0ec8a-7ed5-445e-b462-e0e0953b685d",
      "metadata": {
        "id": "b3f0ec8a-7ed5-445e-b462-e0e0953b685d",
        "outputId": "d3fe8083-2dcf-41f0-c77d-e8e9024e5dcc"
      },
      "outputs": [
        {
          "name": "stdout",
          "output_type": "stream",
          "text": [
            "<class 'pandas.core.frame.DataFrame'>\n",
            "RangeIndex: 500 entries, 0 to 499\n",
            "Data columns (total 11 columns):\n",
            " #   Column            Non-Null Count  Dtype  \n",
            "---  ------            --------------  -----  \n",
            " 0   id                500 non-null    int64  \n",
            " 1   sex               500 non-null    object \n",
            " 2   is_employed       435 non-null    object \n",
            " 3   income            493 non-null    float64\n",
            " 4   marital_status    500 non-null    object \n",
            " 5   health_insurance  500 non-null    bool   \n",
            " 6   housing_type      466 non-null    object \n",
            " 7   recent_move       466 non-null    object \n",
            " 8   num_vehicles      466 non-null    float64\n",
            " 9   age               500 non-null    float64\n",
            " 10  state_of_res      500 non-null    object \n",
            "dtypes: bool(1), float64(3), int64(1), object(6)\n",
            "memory usage: 39.7+ KB\n"
          ]
        }
      ],
      "source": [
        "data.info()"
      ]
    },
    {
      "cell_type": "code",
      "execution_count": null,
      "id": "47101327-d449-40ab-83b6-4166df36574c",
      "metadata": {
        "id": "47101327-d449-40ab-83b6-4166df36574c",
        "outputId": "fd97946c-3818-449a-a7dc-482c395350e2"
      },
      "outputs": [
        {
          "data": {
            "text/plain": [
              "36.25592417061612"
            ]
          },
          "execution_count": 28,
          "metadata": {},
          "output_type": "execute_result"
        }
      ],
      "source": [
        "np.sum((data['health_insurance']==True) &\n",
        "(data['sex']=='M') & (data['marital_status']=='Married'))/np.sum((data['health_insurance']==True))* 100"
      ]
    },
    {
      "cell_type": "code",
      "execution_count": null,
      "id": "cf927627-8d20-4831-87b9-ecbdeee7888f",
      "metadata": {
        "id": "cf927627-8d20-4831-87b9-ecbdeee7888f"
      },
      "outputs": [],
      "source": []
    }
  ],
  "metadata": {
    "kernelspec": {
      "display_name": "Python 3 (ipykernel)",
      "language": "python",
      "name": "python3"
    },
    "language_info": {
      "codemirror_mode": {
        "name": "ipython",
        "version": 3
      },
      "file_extension": ".py",
      "mimetype": "text/x-python",
      "name": "python",
      "nbconvert_exporter": "python",
      "pygments_lexer": "ipython3",
      "version": "3.12.4"
    },
    "colab": {
      "provenance": [],
      "include_colab_link": true
    }
  },
  "nbformat": 4,
  "nbformat_minor": 5
}